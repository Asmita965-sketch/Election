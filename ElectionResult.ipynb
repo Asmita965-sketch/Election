{
 "cells": [
  {
   "cell_type": "code",
   "execution_count": 1,
   "id": "aacf8a91",
   "metadata": {},
   "outputs": [],
   "source": [
    "import pandas as pd\n",
    "\n",
    "# Sample election results data (replace with actual data if available)\n",
    "data = {\n",
    "    'Constituency': ['A', 'B', 'C', 'A', 'B', 'C', 'A', 'B', 'C'],\n",
    "    'Party': ['Party A', 'Party B', 'Party A', 'Party B', 'Party C', 'Party C', 'Party A', 'Party B', 'Party A'],\n",
    "    'Candidate': ['Candidate X', 'Candidate V', 'Candidate Z', 'Candidate P', 'Candidate Q', 'Candidate R', 'Candidate S', 'Candidate T', 'Candidate U'],\n",
    "    'Votes': [15000, 12000, 18000, 13000, 10000, 11000, 17000, 14000, 16000]\n",
    "}\n",
    "\n",
    "df = pd.DataFrame(data)"
   ]
  },
  {
   "cell_type": "code",
   "execution_count": 2,
   "id": "ee70c62d",
   "metadata": {},
   "outputs": [
    {
     "name": "stdout",
     "output_type": "stream",
     "text": [
      "Total Votes per Party:\n",
      " Party\n",
      "Party A    66000\n",
      "Party B    39000\n",
      "Party C    21000\n",
      "Name: Votes, dtype: int64\n"
     ]
    }
   ],
   "source": [
    "# Calculate total votes for each party\n",
    "total_votes_by_party = df.groupby('Party')['Votes'].sum()\n",
    "print(\"Total Votes per Party:\\n\", total_votes_by_party)"
   ]
  },
  {
   "cell_type": "code",
   "execution_count": 3,
   "id": "d35480cd",
   "metadata": {},
   "outputs": [],
   "source": [
    "# Identify the winning party in each constituency\n",
    "def get_winning_party(x):\n",
    "    return x.loc[x['Votes'].idxmax(), 'Party']"
   ]
  },
  {
   "cell_type": "code",
   "execution_count": 4,
   "id": "34271a74",
   "metadata": {},
   "outputs": [
    {
     "name": "stdout",
     "output_type": "stream",
     "text": [
      "\n",
      "Winning Party by Constituency:\n",
      " Constituency\n",
      "A    Party A\n",
      "B    Party B\n",
      "C    Party A\n",
      "dtype: object\n"
     ]
    }
   ],
   "source": [
    "winning_party_by_constituency = df.groupby('Constituency').apply(get_winning_party)\n",
    "\n",
    "print(\"\\nWinning Party by Constituency:\\n\", winning_party_by_constituency)"
   ]
  },
  {
   "cell_type": "code",
   "execution_count": 5,
   "id": "05cc2590",
   "metadata": {},
   "outputs": [
    {
     "name": "stdout",
     "output_type": "stream",
     "text": [
      "\n",
      "Overall Election Winner: Party A\n"
     ]
    }
   ],
   "source": [
    "# Determine the overall election winner\n",
    "overall_winner = total_votes_by_party.idxmax()\n",
    "\n",
    "print(\"\\nOverall Election Winner:\", overall_winner)"
   ]
  },
  {
   "cell_type": "code",
   "execution_count": 6,
   "id": "2bfdc201",
   "metadata": {},
   "outputs": [
    {
     "name": "stdout",
     "output_type": "stream",
     "text": [
      "\n",
      "Vote Share Percentages:\n",
      "   Constituency    Party    Candidate  Votes  Vote Share (%)\n",
      "0            A  Party A  Candidate X  15000       11.904762\n",
      "1            B  Party B  Candidate V  12000        9.523810\n",
      "2            C  Party A  Candidate Z  18000       14.285714\n",
      "3            A  Party B  Candidate P  13000       10.317460\n",
      "4            B  Party C  Candidate Q  10000        7.936508\n",
      "5            C  Party C  Candidate R  11000        8.730159\n",
      "6            A  Party A  Candidate S  17000       13.492063\n",
      "7            B  Party B  Candidate T  14000       11.111111\n",
      "8            C  Party A  Candidate U  16000       12.698413\n"
     ]
    }
   ],
   "source": [
    "# Calculate vote share percentages\n",
    "total_votes = df['Votes'].sum()\n",
    "\n",
    "df['Vote Share (%)'] = (df['Votes'] / total_votes) * 100\n",
    "\n",
    "print(\"\\nVote Share Percentages:\\n\", df)"
   ]
  },
  {
   "cell_type": "code",
   "execution_count": 7,
   "id": "b7005660",
   "metadata": {},
   "outputs": [
    {
     "name": "stdout",
     "output_type": "stream",
     "text": [
      "\n",
      "Constituencies with Close Contests: ['A' 'C']\n"
     ]
    }
   ],
   "source": [
    "# Identify constituencies with close contests (e.g., margin less than 12%)\n",
    "def close_contest(x):\n",
    "    vote_counts = x['Votes'].values\n",
    "\n",
    "    if len(vote_counts) > 1:\n",
    "        vote_counts.sort()  # Sort the vote counts within the constituency\n",
    "        margin = (vote_counts[-1] - vote_counts[-2]) / vote_counts[-1] * 100\n",
    "        return margin < 12.0\n",
    "    else:\n",
    "        return False\n",
    "\n",
    "close_constituencies = df.groupby('Constituency').filter(close_contest)['Constituency'].unique()\n",
    "\n",
    "print(\"\\nConstituencies with Close Contests:\", close_constituencies)"
   ]
  },
  {
   "cell_type": "code",
   "execution_count": null,
   "id": "389af29c",
   "metadata": {},
   "outputs": [],
   "source": []
  }
 ],
 "metadata": {
  "kernelspec": {
   "display_name": "Python 3 (ipykernel)",
   "language": "python",
   "name": "python3"
  },
  "language_info": {
   "codemirror_mode": {
    "name": "ipython",
    "version": 3
   },
   "file_extension": ".py",
   "mimetype": "text/x-python",
   "name": "python",
   "nbconvert_exporter": "python",
   "pygments_lexer": "ipython3",
   "version": "3.11.4"
  }
 },
 "nbformat": 4,
 "nbformat_minor": 5
}
